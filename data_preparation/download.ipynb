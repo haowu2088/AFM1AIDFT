{
 "cells": [
  {
   "cell_type": "code",
   "execution_count": 1,
   "id": "a2ee56bb-7310-4d29-8806-5d904f55da45",
   "metadata": {
    "execution": {
     "iopub.execute_input": "2024-06-25T03:09:29.528779Z",
     "iopub.status.busy": "2024-06-25T03:09:29.528779Z",
     "iopub.status.idle": "2024-06-25T03:09:36.372824Z",
     "shell.execute_reply": "2024-06-25T03:09:36.372824Z",
     "shell.execute_reply.started": "2024-06-25T03:09:29.528779Z"
    }
   },
   "outputs": [],
   "source": [
    "# Download cif files of materials from materialsproject.org\n",
    "\n",
    "from mp_api.client import MPRester\n",
    "import pandas as pd\n",
    "\n",
    "import os.path as osp\n",
    "import kogger    # a tool designed for logging\n",
    "from tqdm import tqdm"
   ]
  },
  {
   "cell_type": "code",
   "execution_count": 2,
   "id": "d966a280-0a58-481b-8a09-f3be2752f4f2",
   "metadata": {
    "execution": {
     "iopub.execute_input": "2024-06-25T03:09:37.691803Z",
     "iopub.status.busy": "2024-06-25T03:09:37.691803Z",
     "iopub.status.idle": "2024-06-25T03:09:37.695946Z",
     "shell.execute_reply": "2024-06-25T03:09:37.695946Z",
     "shell.execute_reply.started": "2024-06-25T03:09:37.691803Z"
    }
   },
   "outputs": [],
   "source": [
    "def read_material_ids(data_path):\n",
    "    df = pd.read_csv(data_path)\n",
    "    kogger.info('Read {} samples from {}'.format(len(df), data_path))\n",
    "    material_ids = df['ID'].tolist()                # access the column named 'ID'\n",
    "    return material_ids"
   ]
  },
  {
   "cell_type": "code",
   "execution_count": 3,
   "id": "a86de752-ccad-4b6d-b002-f38eea85fbb6",
   "metadata": {
    "execution": {
     "iopub.execute_input": "2024-06-25T03:09:39.228918Z",
     "iopub.status.busy": "2024-06-25T03:09:39.227923Z",
     "iopub.status.idle": "2024-06-25T03:09:39.235256Z",
     "shell.execute_reply": "2024-06-25T03:09:39.235256Z",
     "shell.execute_reply.started": "2024-06-25T03:09:39.228918Z"
    }
   },
   "outputs": [],
   "source": [
    "def download_materials(material_ids, save_dir, label):\n",
    "    kogger.info('Download...') \n",
    "    my_api_key = ' '\n",
    "    with MPRester(my_api_key) as mpr:\n",
    "        ids = []\n",
    "\n",
    "        # Fetch data in batches\n",
    "        docs = []\n",
    "        batch_size=10000\n",
    "        batches = [material_ids[i:i + batch_size] for i in range(0, len(material_ids), batch_size)]\n",
    "        for batch in batches:\n",
    "            results = mpr.materials.bonds.search(material_ids=batch, fields=['material_id', 'structure_graph'])\n",
    "            docs.extend(results)\n",
    "  \n",
    "        length = len(docs)\n",
    "        for idx in tqdm(range(length)):\n",
    "            struc = docs[idx].structure_graph.structure\n",
    "            id = docs[idx].material_id\n",
    "            ids.append(id)\n",
    "            struc.to(filename=osp.join(save_dir, '{}.cif'.format(id)))  # save cif files, if uncommenting, no cif files\n",
    "\n",
    "        # append to 'data/id_prop_{}.csv'\n",
    "        labels = [label] * len(ids)                # create a list of labels\n",
    "        df = pd.DataFrame(list(zip(ids, labels)))  # zipped list, then DataFrame for csv files\n",
    "        path = osp.join(save_dir, 'id_prop_{}.csv'.format(label))\n",
    "        kogger.info('Appending to {}'.format(path))\n",
    "        df.to_csv(path, header=None, index=None, mode='a')  # save csv files"
   ]
  },
  {
   "cell_type": "code",
   "execution_count": 5,
   "id": "e3aa1e23-630d-4a03-9713-dbee321efdae",
   "metadata": {
    "execution": {
     "iopub.execute_input": "2024-06-25T03:15:55.391165Z",
     "iopub.status.busy": "2024-06-25T03:15:55.390134Z",
     "iopub.status.idle": "2024-06-25T03:23:02.829115Z",
     "shell.execute_reply": "2024-06-25T03:23:02.829115Z",
     "shell.execute_reply.started": "2024-06-25T03:15:55.391165Z"
    }
   },
   "outputs": [
    {
     "name": "stdout",
     "output_type": "stream",
     "text": [
      "[2024-06-24 22:15:55] [INFO] Read 90 samples from positive.csv\n",
      "[2024-06-24 22:15:55] [INFO] Download...\n"
     ]
    },
    {
     "data": {
      "application/vnd.jupyter.widget-view+json": {
       "model_id": "acd1b262ebe74120a9a74ed24f21a249",
       "version_major": 2,
       "version_minor": 0
      },
      "text/plain": [
       "Retrieving BondingDoc documents:   0%|          | 0/90 [00:00<?, ?it/s]"
      ]
     },
     "metadata": {},
     "output_type": "display_data"
    },
    {
     "name": "stderr",
     "output_type": "stream",
     "text": [
      "100%|█████████████████████████████████████████████████████████████████████████████████| 90/90 [00:00<00:00, 407.35it/s]\n"
     ]
    },
    {
     "name": "stdout",
     "output_type": "stream",
     "text": [
      "[2024-06-24 22:15:56] [INFO] Appending to D:\\data_big\\P4_20240624\\positive\\id_prop_1.csv\n",
      "[2024-06-24 22:15:56] [INFO] Read 21601 samples from negative.csv\n",
      "[2024-06-24 22:15:56] [INFO] Download...\n"
     ]
    },
    {
     "data": {
      "application/vnd.jupyter.widget-view+json": {
       "model_id": "1b88a64f7a0041a0a52aadd7c6cfda5c",
       "version_major": 2,
       "version_minor": 0
      },
      "text/plain": [
       "Retrieving BondingDoc documents:   0%|          | 0/10000 [00:00<?, ?it/s]"
      ]
     },
     "metadata": {},
     "output_type": "display_data"
    },
    {
     "data": {
      "application/vnd.jupyter.widget-view+json": {
       "model_id": "b74ddaf0b9a9437caad9dd7a63d596b5",
       "version_major": 2,
       "version_minor": 0
      },
      "text/plain": [
       "Retrieving BondingDoc documents:   0%|          | 0/9999 [00:00<?, ?it/s]"
      ]
     },
     "metadata": {},
     "output_type": "display_data"
    },
    {
     "data": {
      "application/vnd.jupyter.widget-view+json": {
       "model_id": "9e890c0d567a4d20a837502ab035aa9f",
       "version_major": 2,
       "version_minor": 0
      },
      "text/plain": [
       "Retrieving BondingDoc documents:   0%|          | 0/1601 [00:00<?, ?it/s]"
      ]
     },
     "metadata": {},
     "output_type": "display_data"
    },
    {
     "name": "stderr",
     "output_type": "stream",
     "text": [
      "100%|███████████████████████████████████████████████████████████████████████████| 21600/21600 [00:51<00:00, 421.60it/s]\n"
     ]
    },
    {
     "name": "stdout",
     "output_type": "stream",
     "text": [
      "[2024-06-24 22:17:42] [INFO] Appending to D:\\data_big\\P4_20240624\\negative\\id_prop_0.csv\n",
      "[2024-06-24 22:17:43] [INFO] Read 45217 samples from candidate.csv\n",
      "[2024-06-24 22:17:43] [INFO] Download...\n"
     ]
    },
    {
     "data": {
      "application/vnd.jupyter.widget-view+json": {
       "model_id": "1bd8fd5ef5a64ea197520dca45e84d98",
       "version_major": 2,
       "version_minor": 0
      },
      "text/plain": [
       "Retrieving BondingDoc documents:   0%|          | 0/9998 [00:00<?, ?it/s]"
      ]
     },
     "metadata": {},
     "output_type": "display_data"
    },
    {
     "data": {
      "application/vnd.jupyter.widget-view+json": {
       "model_id": "117dfd05b5004d81a5498338d068f8fd",
       "version_major": 2,
       "version_minor": 0
      },
      "text/plain": [
       "Retrieving BondingDoc documents:   0%|          | 0/9998 [00:00<?, ?it/s]"
      ]
     },
     "metadata": {},
     "output_type": "display_data"
    },
    {
     "data": {
      "application/vnd.jupyter.widget-view+json": {
       "model_id": "b180cc6a99fc4e6782b522293d183153",
       "version_major": 2,
       "version_minor": 0
      },
      "text/plain": [
       "Retrieving BondingDoc documents:   0%|          | 0/10000 [00:00<?, ?it/s]"
      ]
     },
     "metadata": {},
     "output_type": "display_data"
    },
    {
     "data": {
      "application/vnd.jupyter.widget-view+json": {
       "model_id": "454a18fa879f4e6daecb28d093008eb4",
       "version_major": 2,
       "version_minor": 0
      },
      "text/plain": [
       "Retrieving BondingDoc documents:   0%|          | 0/10000 [00:00<?, ?it/s]"
      ]
     },
     "metadata": {},
     "output_type": "display_data"
    },
    {
     "data": {
      "application/vnd.jupyter.widget-view+json": {
       "model_id": "21e7f26896e94e929ba2417ede8c0c9d",
       "version_major": 2,
       "version_minor": 0
      },
      "text/plain": [
       "Retrieving BondingDoc documents:   0%|          | 0/5216 [00:00<?, ?it/s]"
      ]
     },
     "metadata": {},
     "output_type": "display_data"
    },
    {
     "name": "stderr",
     "output_type": "stream",
     "text": [
      "100%|███████████████████████████████████████████████████████████████████████████| 45212/45212 [02:30<00:00, 300.21it/s]\n"
     ]
    },
    {
     "name": "stdout",
     "output_type": "stream",
     "text": [
      "[2024-06-24 22:22:59] [INFO] Appending to D:\\data_big\\P4_20240624\\candidate\\id_prop_-1.csv\n",
      "[2024-06-24 22:23:00] [INFO] Read 14 samples from test_positive.csv\n",
      "[2024-06-24 22:23:00] [INFO] Download...\n"
     ]
    },
    {
     "data": {
      "application/vnd.jupyter.widget-view+json": {
       "model_id": "182264aee0e447168c6f71865820bbf8",
       "version_major": 2,
       "version_minor": 0
      },
      "text/plain": [
       "Retrieving BondingDoc documents:   0%|          | 0/14 [00:00<?, ?it/s]"
      ]
     },
     "metadata": {},
     "output_type": "display_data"
    },
    {
     "name": "stderr",
     "output_type": "stream",
     "text": [
      "100%|█████████████████████████████████████████████████████████████████████████████████| 14/14 [00:00<00:00, 447.41it/s]\n"
     ]
    },
    {
     "name": "stdout",
     "output_type": "stream",
     "text": [
      "[2024-06-24 22:23:01] [INFO] Appending to D:\\data_big\\P4_20240624\\test_positive\\id_prop_1.csv\n",
      "[2024-06-24 22:23:01] [INFO] Read 83 samples from test_negative.csv\n",
      "[2024-06-24 22:23:01] [INFO] Download...\n"
     ]
    },
    {
     "data": {
      "application/vnd.jupyter.widget-view+json": {
       "model_id": "4039e4ce7c844d0db90ffc3fe55e6d3e",
       "version_major": 2,
       "version_minor": 0
      },
      "text/plain": [
       "Retrieving BondingDoc documents:   0%|          | 0/83 [00:00<?, ?it/s]"
      ]
     },
     "metadata": {},
     "output_type": "display_data"
    },
    {
     "name": "stderr",
     "output_type": "stream",
     "text": [
      "100%|█████████████████████████████████████████████████████████████████████████████████| 83/83 [00:00<00:00, 384.47it/s]"
     ]
    },
    {
     "name": "stdout",
     "output_type": "stream",
     "text": [
      "[2024-06-24 22:23:02] [INFO] Appending to D:\\data_big\\P4_20240624\\test_negative\\id_prop_0.csv\n"
     ]
    },
    {
     "name": "stderr",
     "output_type": "stream",
     "text": [
      "\n"
     ]
    }
   ],
   "source": [
    "def main():\n",
    "    # Define configurations for each type of dataset\n",
    "    configs = [\n",
    "    {\"label\": 1, \"data_path\": 'positive.csv', \"save_dir\": r'D:\\data_big\\P4_20240624\\positive'},    \n",
    "    {\"label\": 0, \"data_path\": 'negative.csv', \"save_dir\": r'D:\\data_big\\P4_20240624\\negative'},      \n",
    "    {\"label\": -1, \"data_path\": 'candidate.csv', \"save_dir\": r'D:\\data_big\\P4_20240624\\candidate'},    \n",
    "    {\"label\": 1, \"data_path\": 'test_positive.csv', \"save_dir\": r'D:\\data_big\\P4_20240624\\test_positive'}, \n",
    "    {\"label\": 0, \"data_path\": 'test_negative.csv', \"save_dir\": r'D:\\data_big\\P4_20240624\\test_negative'}\n",
    "    ]\n",
    "    \n",
    "    for config in configs:\n",
    "        data_path = config[\"data_path\"]\n",
    "        save_dir = config[\"save_dir\"]\n",
    "        label = config[\"label\"]\n",
    "    \n",
    "        material_ids = read_material_ids(data_path)\n",
    "        \n",
    "        download_materials(material_ids, save_dir, label)\n",
    "        \n",
    "main()"
   ]
  },
  {
   "cell_type": "markdown",
   "id": "b180b339-890b-4240-a452-1bfba6c1f52c",
   "metadata": {},
   "source": [
    "# Find which materials are missing when fetching from the website\n",
    "#### Note: Below we find 1 in negative is missing, 5 in candidate is missing.\n",
    "#### These 6 materials can be fetched using mpr.material.summary.search in data_process.ipynb, but they cannot be fetched by using mpr.materials.bonds.search. The possible reason is that Materials Project website lacks bonding information for these materials. Also, just use the website interface, we also cannot download the cif files. And, bonding information is important for us. \n",
    "### So, I decided to just let go of these 6 materials.\n",
    "\n",
    "### mpr.material.summary.search  ------ primitive unit cell by default\n",
    "\n",
    "### mpr.materials.bonds.search  ------ conventional unit cell by default"
   ]
  },
  {
   "cell_type": "markdown",
   "id": "86f016c5-26ba-480a-8f9e-9d4ff8fdd1f3",
   "metadata": {},
   "source": [
    "## (1) negative dataset"
   ]
  },
  {
   "cell_type": "code",
   "execution_count": 6,
   "id": "2d76db12-635d-4856-9c81-69829ba2c057",
   "metadata": {
    "execution": {
     "iopub.execute_input": "2024-06-25T03:25:03.460309Z",
     "iopub.status.busy": "2024-06-25T03:25:03.459309Z",
     "iopub.status.idle": "2024-06-25T03:25:03.478665Z",
     "shell.execute_reply": "2024-06-25T03:25:03.478665Z",
     "shell.execute_reply.started": "2024-06-25T03:25:03.460309Z"
    }
   },
   "outputs": [
    {
     "data": {
      "text/plain": [
       "21601"
      ]
     },
     "execution_count": 6,
     "metadata": {},
     "output_type": "execute_result"
    }
   ],
   "source": [
    "negative = pd.read_csv('negative.csv')\n",
    "len(negative)"
   ]
  },
  {
   "cell_type": "code",
   "execution_count": 8,
   "id": "0de5912a-23d7-40aa-bc96-d499929b7c28",
   "metadata": {
    "execution": {
     "iopub.execute_input": "2024-06-25T03:25:55.645963Z",
     "iopub.status.busy": "2024-06-25T03:25:55.644967Z",
     "iopub.status.idle": "2024-06-25T03:25:55.664805Z",
     "shell.execute_reply": "2024-06-25T03:25:55.664805Z",
     "shell.execute_reply.started": "2024-06-25T03:25:55.645963Z"
    }
   },
   "outputs": [
    {
     "data": {
      "text/plain": [
       "21600"
      ]
     },
     "execution_count": 8,
     "metadata": {},
     "output_type": "execute_result"
    }
   ],
   "source": [
    "negative_fetch = pd.read_csv(r'D:\\data_big\\P4_20240624\\negative\\id_prop_0.csv', header=None)\n",
    "negative_fetch = negative_fetch.rename(columns={0: 'ID'})\n",
    "len(negative_fetch)"
   ]
  },
  {
   "cell_type": "code",
   "execution_count": 9,
   "id": "5c53c3ca-433d-4d34-be99-1cded3f0c262",
   "metadata": {
    "execution": {
     "iopub.execute_input": "2024-06-25T03:26:02.884834Z",
     "iopub.status.busy": "2024-06-25T03:26:02.884834Z",
     "iopub.status.idle": "2024-06-25T03:26:02.897776Z",
     "shell.execute_reply": "2024-06-25T03:26:02.897265Z",
     "shell.execute_reply.started": "2024-06-25T03:26:02.884834Z"
    }
   },
   "outputs": [
    {
     "name": "stdout",
     "output_type": "stream",
     "text": [
      "               ID\n",
      "19449  mp-2276800\n"
     ]
    }
   ],
   "source": [
    "# Find IDs in df1 that are not in df2\n",
    "df1 = negative\n",
    "df2 = negative_fetch\n",
    "\n",
    "not_in_df2 = df1[~df1['ID'].isin(df2['ID'])]\n",
    "\n",
    "print(not_in_df2)"
   ]
  },
  {
   "cell_type": "markdown",
   "id": "89ba9352-8933-4eb6-ba79-b18f2de201fb",
   "metadata": {},
   "source": [
    "## (2) candidate dataset"
   ]
  },
  {
   "cell_type": "code",
   "execution_count": 10,
   "id": "278be329-2e89-4584-9d61-3152739ef43d",
   "metadata": {
    "execution": {
     "iopub.execute_input": "2024-06-25T03:27:06.076433Z",
     "iopub.status.busy": "2024-06-25T03:27:06.076433Z",
     "iopub.status.idle": "2024-06-25T03:27:06.102794Z",
     "shell.execute_reply": "2024-06-25T03:27:06.102794Z",
     "shell.execute_reply.started": "2024-06-25T03:27:06.076433Z"
    }
   },
   "outputs": [
    {
     "data": {
      "text/plain": [
       "45217"
      ]
     },
     "execution_count": 10,
     "metadata": {},
     "output_type": "execute_result"
    }
   ],
   "source": [
    "candidate = pd.read_csv('candidate.csv')\n",
    "len(candidate)"
   ]
  },
  {
   "cell_type": "code",
   "execution_count": 11,
   "id": "ca2f3592-5c5c-4b6b-bd55-6d639c1f9e8b",
   "metadata": {
    "execution": {
     "iopub.execute_input": "2024-06-25T03:27:06.772801Z",
     "iopub.status.busy": "2024-06-25T03:27:06.771799Z",
     "iopub.status.idle": "2024-06-25T03:27:06.802655Z",
     "shell.execute_reply": "2024-06-25T03:27:06.802655Z",
     "shell.execute_reply.started": "2024-06-25T03:27:06.772801Z"
    }
   },
   "outputs": [
    {
     "data": {
      "text/plain": [
       "45212"
      ]
     },
     "execution_count": 11,
     "metadata": {},
     "output_type": "execute_result"
    }
   ],
   "source": [
    "candidate_fetch = pd.read_csv(r'D:\\data_big\\P4_20240624\\candidate\\id_prop_-1.csv', header=None)\n",
    "candidate_fetch = candidate_fetch.rename(columns={0: 'ID'})\n",
    "len(candidate_fetch)"
   ]
  },
  {
   "cell_type": "code",
   "execution_count": 12,
   "id": "f0bc1be0-cf2b-4fff-a3ab-55751eabfca3",
   "metadata": {
    "execution": {
     "iopub.execute_input": "2024-06-25T03:27:09.919474Z",
     "iopub.status.busy": "2024-06-25T03:27:09.919474Z",
     "iopub.status.idle": "2024-06-25T03:27:09.944288Z",
     "shell.execute_reply": "2024-06-25T03:27:09.943271Z",
     "shell.execute_reply.started": "2024-06-25T03:27:09.919474Z"
    }
   },
   "outputs": [
    {
     "name": "stdout",
     "output_type": "stream",
     "text": [
      "               ID\n",
      "4929   mp-2277947\n",
      "7790   mp-2278159\n",
      "11003  mp-2276572\n",
      "19718  mp-2277564\n",
      "42180  mp-2287684\n"
     ]
    }
   ],
   "source": [
    "# Find IDs in df1 that are not in df2\n",
    "df1 = candidate\n",
    "df2 = candidate_fetch\n",
    "\n",
    "not_in_df2 = df1[~df1['ID'].isin(df2['ID'])]\n",
    "\n",
    "print(not_in_df2)"
   ]
  },
  {
   "cell_type": "markdown",
   "id": "1c967aeb-9cac-490d-8324-3f42cddeea13",
   "metadata": {},
   "source": []
  },
  {
   "cell_type": "markdown",
   "id": "69b34ce5-ccc1-4dbf-9d48-0e8cb731491c",
   "metadata": {},
   "source": [
    "# Below is just for exploring more."
   ]
  },
  {
   "cell_type": "markdown",
   "id": "5e6f87e5-d2e9-49c8-8407-f151eaa7e31c",
   "metadata": {
    "execution": {
     "iopub.execute_input": "2024-06-22T15:33:12.670140Z",
     "iopub.status.busy": "2024-06-22T15:33:12.669126Z",
     "iopub.status.idle": "2024-06-22T15:33:12.673378Z",
     "shell.execute_reply": "2024-06-22T15:33:12.673207Z",
     "shell.execute_reply.started": "2024-06-22T15:33:12.670140Z"
    }
   },
   "source": [
    "## An example to successfully fetch information for one material \n",
    "#### mpr.materials.bonds.search    ---- conventional unit cell"
   ]
  },
  {
   "cell_type": "code",
   "execution_count": null,
   "id": "948f2ae5-07cd-4f62-9db2-522d9a407ee2",
   "metadata": {},
   "outputs": [],
   "source": [
    "with MPRester('uKaYoq6fc2leUGXshzG9tB4Csa6q2WIT') as mpr:\n",
    "    ids=[]\n",
    "    docs=[]\n",
    "    results = mpr.materials.bonds.search(material_ids='mp-1226395', fields=['material_id', 'structure_graph'])\n",
    "    docs.extend(results)\n",
    "    length = len(docs)\n",
    "    struc = docs[0].structure_graph.structure\n",
    "    id = docs[0].material_id\n",
    "    ids.append(id)\n",
    "\n",
    "    # download and save cif file\n",
    "    struc.to(filename='save_files/{}.cif'.format(id)) \n",
    "   \n",
    "    # Mark label and save as csv file\n",
    "    label = 666\n",
    "    labels = [label] * len(ids)                # create a list of labels\n",
    "    df = pd.DataFrame(list(zip(ids, labels)))  # zipped list, then DataFrame for csv files\n",
    "    path = 'save_files/id_prop_{}.csv'.format(label)\n",
    "    kogger.info('Appending to {}'.format(path))\n",
    "    df.to_csv(path, header=None, index=None, mode='a')  # save csv files"
   ]
  },
  {
   "cell_type": "markdown",
   "id": "b54a9f26-a745-4427-beda-942bb9327b50",
   "metadata": {},
   "source": [
    "## A second method to get cif file.\n",
    "\n",
    "#### mpr.get_structure_by_material_id   ----- primitive unit cell"
   ]
  },
  {
   "cell_type": "code",
   "execution_count": null,
   "id": "717d9653-7ad4-4af7-9353-005f57e7db4c",
   "metadata": {},
   "outputs": [],
   "source": [
    "from mp_api.client import MPRester\n",
    "from pymatgen.core.structure import Structure\n",
    "\n",
    "# Replace with your actual Materials Project API key\n",
    "api_key = \"uKaYoq6fc2leUGXshzG9tB4Csa6q2WIT\"\n",
    "\n",
    "# Initialize MPRester with your API key\n",
    "with MPRester(api_key) as mpr:\n",
    "    # Fetch the structure for the material with ID 'mp-2276800'\n",
    "    structure = mpr.get_structure_by_material_id(\"mp-2276800\")\n",
    "\n",
    "    # Convert the structure to CIF format\n",
    "    cif_string = structure.to(fmt=\"cif\")\n",
    "\n",
    "    # Save the CIF file to disk\n",
    "    file_name = \"mp-2276800.cif\"\n",
    "    with open(file_name, 'w') as file:\n",
    "        file.write(cif_string)\n",
    "\n",
    "    print(f\"CIF file for mp-2276800 saved as {file_name}\")\n"
   ]
  },
  {
   "cell_type": "markdown",
   "id": "b7c08c11-fe67-490c-bda0-c9b550549784",
   "metadata": {},
   "source": [
    "## The method to get conventional cif file  (use SpacegroupAnalyzer to convert)"
   ]
  },
  {
   "cell_type": "code",
   "execution_count": null,
   "id": "c98ea9b2-4d35-4112-a0ef-ebb849277bce",
   "metadata": {},
   "outputs": [],
   "source": [
    "from mp_api.client import MPRester\n",
    "from pymatgen.symmetry.analyzer import SpacegroupAnalyzer\n",
    "\n",
    "# Replace with your actual Materials Project API key\n",
    "api_key = \"uKaYoq6fc2leUGXshzG9tB4Csa6q2WIT\"\n",
    "\n",
    "# Initialize MPRester with your API key\n",
    "with MPRester(api_key) as mpr:\n",
    "    # Fetch the structure for the material with ID 'mp-1226395'\n",
    "    structure = mpr.get_structure_by_material_id(\"mp-1226395\")\n",
    "\n",
    "    # Convert the structure to the conventional unit cell\n",
    "    sga = SpacegroupAnalyzer(structure)\n",
    "    conventional_structure = sga.get_conventional_standard_structure()\n",
    "\n",
    "    # Convert the conventional structure to CIF format\n",
    "    cif_string = conventional_structure.to(fmt=\"cif\")\n",
    "\n",
    "    # Save the CIF file to disk\n",
    "    file_name = \"mp-1226395_conventional.cif\"\n",
    "    with open(file_name, 'w') as file:\n",
    "        file.write(cif_string)\n",
    "\n",
    "    print(f\"Conventional CIF file for mp-1226395 saved as {file_name}\")\n"
   ]
  },
  {
   "cell_type": "code",
   "execution_count": null,
   "id": "12384789-d176-4763-a61d-c0113ad24238",
   "metadata": {},
   "outputs": [],
   "source": []
  }
 ],
 "metadata": {
  "kernelspec": {
   "display_name": "Python 3 (ipykernel)",
   "language": "python",
   "name": "python3"
  },
  "language_info": {
   "codemirror_mode": {
    "name": "ipython",
    "version": 3
   },
   "file_extension": ".py",
   "mimetype": "text/x-python",
   "name": "python",
   "nbconvert_exporter": "python",
   "pygments_lexer": "ipython3",
   "version": "3.11.6"
  }
 },
 "nbformat": 4,
 "nbformat_minor": 5
}
