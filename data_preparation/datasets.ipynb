{
 "cells": [
  {
   "cell_type": "markdown",
   "id": "b304a2dc-4313-4b1e-b04f-3ac9c82ea230",
   "metadata": {},
   "source": [
    "# 1. Read original three csv files into DataFrames"
   ]
  },
  {
   "cell_type": "code",
   "execution_count": 24,
   "id": "772539c7-d941-49f9-8f64-84f9bf4852ca",
   "metadata": {
    "execution": {
     "iopub.execute_input": "2024-06-25T03:02:45.544035Z",
     "iopub.status.busy": "2024-06-25T03:02:45.544035Z",
     "iopub.status.idle": "2024-06-25T03:02:45.606857Z",
     "shell.execute_reply": "2024-06-25T03:02:45.606857Z",
     "shell.execute_reply.started": "2024-06-25T03:02:45.544035Z"
    }
   },
   "outputs": [],
   "source": [
    "import pandas as pd\n",
    "positive_pre = pd.read_csv('positive_pre.csv')\n",
    "negative_pre = pd.read_csv('negative_pre.csv')\n",
    "candidate_pre = pd.read_csv('candidate_pre.csv')"
   ]
  },
  {
   "cell_type": "code",
   "execution_count": 25,
   "id": "475d9e11-3490-4234-853f-e7ba187974b2",
   "metadata": {
    "execution": {
     "iopub.execute_input": "2024-06-25T03:02:47.384092Z",
     "iopub.status.busy": "2024-06-25T03:02:47.384092Z",
     "iopub.status.idle": "2024-06-25T03:02:47.393272Z",
     "shell.execute_reply": "2024-06-25T03:02:47.393272Z",
     "shell.execute_reply.started": "2024-06-25T03:02:47.384092Z"
    }
   },
   "outputs": [
    {
     "data": {
      "text/html": [
       "<div>\n",
       "<style scoped>\n",
       "    .dataframe tbody tr th:only-of-type {\n",
       "        vertical-align: middle;\n",
       "    }\n",
       "\n",
       "    .dataframe tbody tr th {\n",
       "        vertical-align: top;\n",
       "    }\n",
       "\n",
       "    .dataframe thead th {\n",
       "        text-align: right;\n",
       "    }\n",
       "</style>\n",
       "<table border=\"1\" class=\"dataframe\">\n",
       "  <thead>\n",
       "    <tr style=\"text-align: right;\">\n",
       "      <th></th>\n",
       "      <th>ID</th>\n",
       "    </tr>\n",
       "  </thead>\n",
       "  <tbody>\n",
       "    <tr>\n",
       "      <th>0</th>\n",
       "      <td>mp-754958</td>\n",
       "    </tr>\n",
       "    <tr>\n",
       "      <th>1</th>\n",
       "      <td>mp-1080749</td>\n",
       "    </tr>\n",
       "    <tr>\n",
       "      <th>2</th>\n",
       "      <td>mp-36447</td>\n",
       "    </tr>\n",
       "    <tr>\n",
       "      <th>3</th>\n",
       "      <td>mp-546936</td>\n",
       "    </tr>\n",
       "    <tr>\n",
       "      <th>4</th>\n",
       "      <td>mp-755882</td>\n",
       "    </tr>\n",
       "    <tr>\n",
       "      <th>...</th>\n",
       "      <td>...</td>\n",
       "    </tr>\n",
       "    <tr>\n",
       "      <th>99</th>\n",
       "      <td>mp-1043484</td>\n",
       "    </tr>\n",
       "    <tr>\n",
       "      <th>100</th>\n",
       "      <td>mp-1106201</td>\n",
       "    </tr>\n",
       "    <tr>\n",
       "      <th>101</th>\n",
       "      <td>mp-542850</td>\n",
       "    </tr>\n",
       "    <tr>\n",
       "      <th>102</th>\n",
       "      <td>mp-560090</td>\n",
       "    </tr>\n",
       "    <tr>\n",
       "      <th>103</th>\n",
       "      <td>mp-6186</td>\n",
       "    </tr>\n",
       "  </tbody>\n",
       "</table>\n",
       "<p>104 rows × 1 columns</p>\n",
       "</div>"
      ],
      "text/plain": [
       "             ID\n",
       "0     mp-754958\n",
       "1    mp-1080749\n",
       "2      mp-36447\n",
       "3     mp-546936\n",
       "4     mp-755882\n",
       "..          ...\n",
       "99   mp-1043484\n",
       "100  mp-1106201\n",
       "101   mp-542850\n",
       "102   mp-560090\n",
       "103     mp-6186\n",
       "\n",
       "[104 rows x 1 columns]"
      ]
     },
     "execution_count": 25,
     "metadata": {},
     "output_type": "execute_result"
    }
   ],
   "source": [
    "positive_pre"
   ]
  },
  {
   "cell_type": "code",
   "execution_count": 26,
   "id": "8d105629-5560-4682-a023-b010bce8f010",
   "metadata": {
    "execution": {
     "iopub.execute_input": "2024-06-25T03:02:48.182679Z",
     "iopub.status.busy": "2024-06-25T03:02:48.182679Z",
     "iopub.status.idle": "2024-06-25T03:02:48.191151Z",
     "shell.execute_reply": "2024-06-25T03:02:48.191151Z",
     "shell.execute_reply.started": "2024-06-25T03:02:48.182679Z"
    }
   },
   "outputs": [
    {
     "data": {
      "text/html": [
       "<div>\n",
       "<style scoped>\n",
       "    .dataframe tbody tr th:only-of-type {\n",
       "        vertical-align: middle;\n",
       "    }\n",
       "\n",
       "    .dataframe tbody tr th {\n",
       "        vertical-align: top;\n",
       "    }\n",
       "\n",
       "    .dataframe thead th {\n",
       "        text-align: right;\n",
       "    }\n",
       "</style>\n",
       "<table border=\"1\" class=\"dataframe\">\n",
       "  <thead>\n",
       "    <tr style=\"text-align: right;\">\n",
       "      <th></th>\n",
       "      <th>ID</th>\n",
       "    </tr>\n",
       "  </thead>\n",
       "  <tbody>\n",
       "    <tr>\n",
       "      <th>0</th>\n",
       "      <td>mp-1080351</td>\n",
       "    </tr>\n",
       "    <tr>\n",
       "      <th>1</th>\n",
       "      <td>mp-752798</td>\n",
       "    </tr>\n",
       "    <tr>\n",
       "      <th>2</th>\n",
       "      <td>mp-7739</td>\n",
       "    </tr>\n",
       "    <tr>\n",
       "      <th>3</th>\n",
       "      <td>mp-1518570</td>\n",
       "    </tr>\n",
       "    <tr>\n",
       "      <th>4</th>\n",
       "      <td>mp-2228371</td>\n",
       "    </tr>\n",
       "    <tr>\n",
       "      <th>...</th>\n",
       "      <td>...</td>\n",
       "    </tr>\n",
       "    <tr>\n",
       "      <th>21687</th>\n",
       "      <td>mp-755191</td>\n",
       "    </tr>\n",
       "    <tr>\n",
       "      <th>21688</th>\n",
       "      <td>mp-1211060</td>\n",
       "    </tr>\n",
       "    <tr>\n",
       "      <th>21689</th>\n",
       "      <td>mp-21330</td>\n",
       "    </tr>\n",
       "    <tr>\n",
       "      <th>21690</th>\n",
       "      <td>mp-1201549</td>\n",
       "    </tr>\n",
       "    <tr>\n",
       "      <th>21691</th>\n",
       "      <td>mp-1236205</td>\n",
       "    </tr>\n",
       "  </tbody>\n",
       "</table>\n",
       "<p>21692 rows × 1 columns</p>\n",
       "</div>"
      ],
      "text/plain": [
       "               ID\n",
       "0      mp-1080351\n",
       "1       mp-752798\n",
       "2         mp-7739\n",
       "3      mp-1518570\n",
       "4      mp-2228371\n",
       "...           ...\n",
       "21687   mp-755191\n",
       "21688  mp-1211060\n",
       "21689    mp-21330\n",
       "21690  mp-1201549\n",
       "21691  mp-1236205\n",
       "\n",
       "[21692 rows x 1 columns]"
      ]
     },
     "execution_count": 26,
     "metadata": {},
     "output_type": "execute_result"
    }
   ],
   "source": [
    "negative_pre"
   ]
  },
  {
   "cell_type": "code",
   "execution_count": 27,
   "id": "4ded0539-90ba-482c-94d4-6f0e9fbe4055",
   "metadata": {
    "execution": {
     "iopub.execute_input": "2024-06-25T03:02:50.135036Z",
     "iopub.status.busy": "2024-06-25T03:02:50.135036Z",
     "iopub.status.idle": "2024-06-25T03:02:50.144419Z",
     "shell.execute_reply": "2024-06-25T03:02:50.143413Z",
     "shell.execute_reply.started": "2024-06-25T03:02:50.135036Z"
    }
   },
   "outputs": [
    {
     "data": {
      "text/html": [
       "<div>\n",
       "<style scoped>\n",
       "    .dataframe tbody tr th:only-of-type {\n",
       "        vertical-align: middle;\n",
       "    }\n",
       "\n",
       "    .dataframe tbody tr th {\n",
       "        vertical-align: top;\n",
       "    }\n",
       "\n",
       "    .dataframe thead th {\n",
       "        text-align: right;\n",
       "    }\n",
       "</style>\n",
       "<table border=\"1\" class=\"dataframe\">\n",
       "  <thead>\n",
       "    <tr style=\"text-align: right;\">\n",
       "      <th></th>\n",
       "      <th>ID</th>\n",
       "    </tr>\n",
       "  </thead>\n",
       "  <tbody>\n",
       "    <tr>\n",
       "      <th>0</th>\n",
       "      <td>mp-1228140</td>\n",
       "    </tr>\n",
       "    <tr>\n",
       "      <th>1</th>\n",
       "      <td>mp-1344634</td>\n",
       "    </tr>\n",
       "    <tr>\n",
       "      <th>2</th>\n",
       "      <td>mp-686442</td>\n",
       "    </tr>\n",
       "    <tr>\n",
       "      <th>3</th>\n",
       "      <td>mp-1195162</td>\n",
       "    </tr>\n",
       "    <tr>\n",
       "      <th>4</th>\n",
       "      <td>mp-1022188</td>\n",
       "    </tr>\n",
       "    <tr>\n",
       "      <th>...</th>\n",
       "      <td>...</td>\n",
       "    </tr>\n",
       "    <tr>\n",
       "      <th>45281</th>\n",
       "      <td>mp-753206</td>\n",
       "    </tr>\n",
       "    <tr>\n",
       "      <th>45282</th>\n",
       "      <td>mp-772964</td>\n",
       "    </tr>\n",
       "    <tr>\n",
       "      <th>45283</th>\n",
       "      <td>mp-556905</td>\n",
       "    </tr>\n",
       "    <tr>\n",
       "      <th>45284</th>\n",
       "      <td>mp-2230185</td>\n",
       "    </tr>\n",
       "    <tr>\n",
       "      <th>45285</th>\n",
       "      <td>mp-19980</td>\n",
       "    </tr>\n",
       "  </tbody>\n",
       "</table>\n",
       "<p>45286 rows × 1 columns</p>\n",
       "</div>"
      ],
      "text/plain": [
       "               ID\n",
       "0      mp-1228140\n",
       "1      mp-1344634\n",
       "2       mp-686442\n",
       "3      mp-1195162\n",
       "4      mp-1022188\n",
       "...           ...\n",
       "45281   mp-753206\n",
       "45282   mp-772964\n",
       "45283   mp-556905\n",
       "45284  mp-2230185\n",
       "45285    mp-19980\n",
       "\n",
       "[45286 rows x 1 columns]"
      ]
     },
     "execution_count": 27,
     "metadata": {},
     "output_type": "execute_result"
    }
   ],
   "source": [
    "candidate_pre"
   ]
  },
  {
   "cell_type": "markdown",
   "id": "4739c168-06a8-4711-8d37-2cea741bdae4",
   "metadata": {},
   "source": [
    "# 2. Check if there are common materials in positive_pre and negative_pre"
   ]
  },
  {
   "cell_type": "code",
   "execution_count": 28,
   "id": "ad2fd4a8-ebfb-4db3-a4a3-47869f4cdc33",
   "metadata": {
    "execution": {
     "iopub.execute_input": "2024-06-25T03:02:52.790234Z",
     "iopub.status.busy": "2024-06-25T03:02:52.789228Z",
     "iopub.status.idle": "2024-06-25T03:02:52.800655Z",
     "shell.execute_reply": "2024-06-25T03:02:52.800655Z",
     "shell.execute_reply.started": "2024-06-25T03:02:52.790234Z"
    }
   },
   "outputs": [
    {
     "name": "stdout",
     "output_type": "stream",
     "text": [
      "\n",
      "Common entries in 'ID' column of both DataFrames:\n",
      "           ID\n",
      "0    mp-18745\n",
      "1    mp-20612\n",
      "2    mp-20970\n",
      "3    mp-22973\n",
      "4     mp-4233\n",
      "5  mp-1018739\n",
      "6    mp-28416\n",
      "7  mp-1205500\n"
     ]
    }
   ],
   "source": [
    "# Find common 'ID' entries (ID is the name of the column I give)\n",
    "common_ids = positive_pre.merge(negative_pre, on='ID', how='inner')\n",
    "\n",
    "# Display the common entries\n",
    "print(\"\\nCommon entries in 'ID' column of both DataFrames:\")\n",
    "print(common_ids)"
   ]
  },
  {
   "cell_type": "markdown",
   "id": "82bfef70-bba3-4656-a645-33c215386e86",
   "metadata": {},
   "source": [
    "#### Surprisingly, there are 8 materials that are positive claimed by Yanase's 2018 paper, but they appear in negative_pre. The explanation for this I can think of now is that, suppose our categries to screen out negative materials are right, even though these 8 materials are in negative_ore, but due to some complicated symmetry properties, they turn out to be indeed positive. Maybe should look at Yanase's paper more closely. (2025.01.10 note: another possible reason is that accuracy error)\n",
    "#### But for now, let us just exclude these 8 materials from negative_pre, and keep them in the positive_pre.\n",
    "#### Also, next, let us see specifically, under which categry we get these 8 materials in negative_pre. There are two main categries: 1) have odd number of magnetic atoms in the primitive unit cell; 2) have even number of magnetic atoms, then furtherly, under three conditions (with space inversion symmetry, with two magnetic atoms in the premitive unit cell, both of the magnetic atoms are at inversion centers)."
   ]
  },
  {
   "cell_type": "code",
   "execution_count": 29,
   "id": "e6f979e2-a6db-4b80-89b4-00f8d571ab26",
   "metadata": {
    "execution": {
     "iopub.execute_input": "2024-06-25T03:02:56.053243Z",
     "iopub.status.busy": "2024-06-25T03:02:56.053243Z",
     "iopub.status.idle": "2024-06-25T03:02:56.084660Z",
     "shell.execute_reply": "2024-06-25T03:02:56.084660Z",
     "shell.execute_reply.started": "2024-06-25T03:02:56.053243Z"
    }
   },
   "outputs": [],
   "source": [
    "# In data_process.ipynb, we already get two files: \n",
    "# odd_atoms.csv for materials with odd number of magnetic atoms in the primitive unit cell;\n",
    "# con3_result.csv for materials which are after the even number of magnetuc atoms and three more conditions.\n",
    "\n",
    "# We first read these two csv files into DataFrames (remember put them in the local folder)\n",
    "odd_atoms = pd.read_csv('odd_atoms.csv')\n",
    "con3_result = pd.read_csv('con3_result.csv')"
   ]
  },
  {
   "cell_type": "code",
   "execution_count": 30,
   "id": "87ebc40a-5047-42f9-a523-b481b20ed911",
   "metadata": {
    "execution": {
     "iopub.execute_input": "2024-06-25T03:02:56.726247Z",
     "iopub.status.busy": "2024-06-25T03:02:56.725284Z",
     "iopub.status.idle": "2024-06-25T03:02:56.734453Z",
     "shell.execute_reply": "2024-06-25T03:02:56.734453Z",
     "shell.execute_reply.started": "2024-06-25T03:02:56.726247Z"
    }
   },
   "outputs": [
    {
     "name": "stdout",
     "output_type": "stream",
     "text": [
      "\n",
      "Common entries in 'ID' column of both DataFrames:\n",
      "           ID\n",
      "0    mp-28416\n",
      "1  mp-1205500\n"
     ]
    }
   ],
   "source": [
    "# Find common 'ID' entries originating from odd_atoms\n",
    "common_ids = positive_pre.merge(odd_atoms, on='ID', how='inner')\n",
    "\n",
    "# Display the common entries\n",
    "print(\"\\nCommon entries in 'ID' column of both DataFrames:\")\n",
    "print(common_ids)"
   ]
  },
  {
   "cell_type": "code",
   "execution_count": 31,
   "id": "dc23dd4e-1d4f-46d6-b5b6-7d6cef2e9ff3",
   "metadata": {
    "execution": {
     "iopub.execute_input": "2024-06-25T03:02:57.438087Z",
     "iopub.status.busy": "2024-06-25T03:02:57.437088Z",
     "iopub.status.idle": "2024-06-25T03:02:57.445439Z",
     "shell.execute_reply": "2024-06-25T03:02:57.445439Z",
     "shell.execute_reply.started": "2024-06-25T03:02:57.438087Z"
    }
   },
   "outputs": [
    {
     "name": "stdout",
     "output_type": "stream",
     "text": [
      "\n",
      "Common entries in 'ID' column of both DataFrames:\n",
      "           ID\n",
      "0    mp-18745\n",
      "1    mp-20612\n",
      "2    mp-20970\n",
      "3    mp-22973\n",
      "4     mp-4233\n",
      "5  mp-1018739\n"
     ]
    }
   ],
   "source": [
    "# Find common 'ID' entries originating from con3_result.\n",
    "common_ids = positive_pre.merge(con3_result, on='ID', how='inner')\n",
    "\n",
    "# Display the common entries\n",
    "print(\"\\nCommon entries in 'ID' column of both DataFrames:\")\n",
    "print(common_ids)"
   ]
  },
  {
   "cell_type": "markdown",
   "id": "2a4a6971-f4a8-4559-b410-539e33b36bd3",
   "metadata": {},
   "source": [
    "# 3. Exclude the 8 materials from negative_pre, becomes negative_pre_8excluded"
   ]
  },
  {
   "cell_type": "code",
   "execution_count": 32,
   "id": "21268b78-b6b9-4196-9124-9bfef9db454b",
   "metadata": {
    "execution": {
     "iopub.execute_input": "2024-06-25T03:03:00.535917Z",
     "iopub.status.busy": "2024-06-25T03:03:00.535917Z",
     "iopub.status.idle": "2024-06-25T03:03:00.545444Z",
     "shell.execute_reply": "2024-06-25T03:03:00.545444Z",
     "shell.execute_reply.started": "2024-06-25T03:03:00.535917Z"
    }
   },
   "outputs": [
    {
     "data": {
      "text/html": [
       "<div>\n",
       "<style scoped>\n",
       "    .dataframe tbody tr th:only-of-type {\n",
       "        vertical-align: middle;\n",
       "    }\n",
       "\n",
       "    .dataframe tbody tr th {\n",
       "        vertical-align: top;\n",
       "    }\n",
       "\n",
       "    .dataframe thead th {\n",
       "        text-align: right;\n",
       "    }\n",
       "</style>\n",
       "<table border=\"1\" class=\"dataframe\">\n",
       "  <thead>\n",
       "    <tr style=\"text-align: right;\">\n",
       "      <th></th>\n",
       "      <th>ID</th>\n",
       "    </tr>\n",
       "  </thead>\n",
       "  <tbody>\n",
       "    <tr>\n",
       "      <th>0</th>\n",
       "      <td>mp-1080351</td>\n",
       "    </tr>\n",
       "    <tr>\n",
       "      <th>1</th>\n",
       "      <td>mp-752798</td>\n",
       "    </tr>\n",
       "    <tr>\n",
       "      <th>2</th>\n",
       "      <td>mp-7739</td>\n",
       "    </tr>\n",
       "    <tr>\n",
       "      <th>3</th>\n",
       "      <td>mp-1518570</td>\n",
       "    </tr>\n",
       "    <tr>\n",
       "      <th>4</th>\n",
       "      <td>mp-2228371</td>\n",
       "    </tr>\n",
       "    <tr>\n",
       "      <th>...</th>\n",
       "      <td>...</td>\n",
       "    </tr>\n",
       "    <tr>\n",
       "      <th>21687</th>\n",
       "      <td>mp-755191</td>\n",
       "    </tr>\n",
       "    <tr>\n",
       "      <th>21688</th>\n",
       "      <td>mp-1211060</td>\n",
       "    </tr>\n",
       "    <tr>\n",
       "      <th>21689</th>\n",
       "      <td>mp-21330</td>\n",
       "    </tr>\n",
       "    <tr>\n",
       "      <th>21690</th>\n",
       "      <td>mp-1201549</td>\n",
       "    </tr>\n",
       "    <tr>\n",
       "      <th>21691</th>\n",
       "      <td>mp-1236205</td>\n",
       "    </tr>\n",
       "  </tbody>\n",
       "</table>\n",
       "<p>21684 rows × 1 columns</p>\n",
       "</div>"
      ],
      "text/plain": [
       "               ID\n",
       "0      mp-1080351\n",
       "1       mp-752798\n",
       "2         mp-7739\n",
       "3      mp-1518570\n",
       "4      mp-2228371\n",
       "...           ...\n",
       "21687   mp-755191\n",
       "21688  mp-1211060\n",
       "21689    mp-21330\n",
       "21690  mp-1201549\n",
       "21691  mp-1236205\n",
       "\n",
       "[21684 rows x 1 columns]"
      ]
     },
     "execution_count": 32,
     "metadata": {},
     "output_type": "execute_result"
    }
   ],
   "source": [
    "# Exclude rows in 'negative_pre' that are present in 'positive_pre'\n",
    "negative_pre_8excluded = negative_pre[~negative_pre['ID'].isin(positive_pre['ID'])]\n",
    "negative_pre_8excluded"
   ]
  },
  {
   "cell_type": "code",
   "execution_count": 33,
   "id": "fa21d837-bac4-4d18-a4ec-a73603e71e59",
   "metadata": {
    "execution": {
     "iopub.execute_input": "2024-06-25T03:03:05.790310Z",
     "iopub.status.busy": "2024-06-25T03:03:05.789347Z",
     "iopub.status.idle": "2024-06-25T03:03:05.801087Z",
     "shell.execute_reply": "2024-06-25T03:03:05.801087Z",
     "shell.execute_reply.started": "2024-06-25T03:03:05.790310Z"
    }
   },
   "outputs": [
    {
     "name": "stdout",
     "output_type": "stream",
     "text": [
      "\n",
      "Common entries in 'ID' column of both DataFrames:\n",
      "Empty DataFrame\n",
      "Columns: [ID]\n",
      "Index: []\n"
     ]
    }
   ],
   "source": [
    "# Check\n",
    "# Find common 'ID' entries (ID is the name of the column I give)\n",
    "common_ids = positive_pre.merge(negative_pre_8excluded, on='ID', how='inner')\n",
    "\n",
    "# Display the common entries\n",
    "print(\"\\nCommon entries in 'ID' column of both DataFrames:\")\n",
    "print(common_ids)"
   ]
  },
  {
   "cell_type": "markdown",
   "id": "e1103ee1-183e-4912-8d6c-7ab603c7844e",
   "metadata": {},
   "source": [
    "# 4. Exclude any materials in candidate_pre that are in positive_pre"
   ]
  },
  {
   "cell_type": "code",
   "execution_count": 34,
   "id": "1ef4c312-4547-4884-ad1d-e9bc0c5bf364",
   "metadata": {
    "execution": {
     "iopub.execute_input": "2024-06-25T03:03:10.182379Z",
     "iopub.status.busy": "2024-06-25T03:03:10.182379Z",
     "iopub.status.idle": "2024-06-25T03:03:10.204165Z",
     "shell.execute_reply": "2024-06-25T03:03:10.203643Z",
     "shell.execute_reply.started": "2024-06-25T03:03:10.182379Z"
    }
   },
   "outputs": [
    {
     "data": {
      "text/html": [
       "<div>\n",
       "<style scoped>\n",
       "    .dataframe tbody tr th:only-of-type {\n",
       "        vertical-align: middle;\n",
       "    }\n",
       "\n",
       "    .dataframe tbody tr th {\n",
       "        vertical-align: top;\n",
       "    }\n",
       "\n",
       "    .dataframe thead th {\n",
       "        text-align: right;\n",
       "    }\n",
       "</style>\n",
       "<table border=\"1\" class=\"dataframe\">\n",
       "  <thead>\n",
       "    <tr style=\"text-align: right;\">\n",
       "      <th></th>\n",
       "      <th>ID</th>\n",
       "    </tr>\n",
       "  </thead>\n",
       "  <tbody>\n",
       "    <tr>\n",
       "      <th>0</th>\n",
       "      <td>mp-754958</td>\n",
       "    </tr>\n",
       "    <tr>\n",
       "      <th>1</th>\n",
       "      <td>mp-1080749</td>\n",
       "    </tr>\n",
       "    <tr>\n",
       "      <th>2</th>\n",
       "      <td>mp-36447</td>\n",
       "    </tr>\n",
       "    <tr>\n",
       "      <th>3</th>\n",
       "      <td>mp-546936</td>\n",
       "    </tr>\n",
       "    <tr>\n",
       "      <th>4</th>\n",
       "      <td>mp-755882</td>\n",
       "    </tr>\n",
       "    <tr>\n",
       "      <th>...</th>\n",
       "      <td>...</td>\n",
       "    </tr>\n",
       "    <tr>\n",
       "      <th>64</th>\n",
       "      <td>mp-559680</td>\n",
       "    </tr>\n",
       "    <tr>\n",
       "      <th>65</th>\n",
       "      <td>mp-19367</td>\n",
       "    </tr>\n",
       "    <tr>\n",
       "      <th>66</th>\n",
       "      <td>mp-1043484</td>\n",
       "    </tr>\n",
       "    <tr>\n",
       "      <th>67</th>\n",
       "      <td>mp-1106201</td>\n",
       "    </tr>\n",
       "    <tr>\n",
       "      <th>68</th>\n",
       "      <td>mp-6186</td>\n",
       "    </tr>\n",
       "  </tbody>\n",
       "</table>\n",
       "<p>69 rows × 1 columns</p>\n",
       "</div>"
      ],
      "text/plain": [
       "            ID\n",
       "0    mp-754958\n",
       "1   mp-1080749\n",
       "2     mp-36447\n",
       "3    mp-546936\n",
       "4    mp-755882\n",
       "..         ...\n",
       "64   mp-559680\n",
       "65    mp-19367\n",
       "66  mp-1043484\n",
       "67  mp-1106201\n",
       "68     mp-6186\n",
       "\n",
       "[69 rows x 1 columns]"
      ]
     },
     "execution_count": 34,
     "metadata": {},
     "output_type": "execute_result"
    }
   ],
   "source": [
    "# Find common 'ID' entries\n",
    "common_ids = positive_pre.merge(candidate_pre, on='ID', how='inner')\n",
    "common_ids"
   ]
  },
  {
   "cell_type": "code",
   "execution_count": 35,
   "id": "fe35dfc7-4b0c-4f36-9ad0-123ed0ef3af8",
   "metadata": {
    "execution": {
     "iopub.execute_input": "2024-06-25T03:03:16.255815Z",
     "iopub.status.busy": "2024-06-25T03:03:16.255815Z",
     "iopub.status.idle": "2024-06-25T03:03:16.266740Z",
     "shell.execute_reply": "2024-06-25T03:03:16.266740Z",
     "shell.execute_reply.started": "2024-06-25T03:03:16.255815Z"
    }
   },
   "outputs": [
    {
     "data": {
      "text/html": [
       "<div>\n",
       "<style scoped>\n",
       "    .dataframe tbody tr th:only-of-type {\n",
       "        vertical-align: middle;\n",
       "    }\n",
       "\n",
       "    .dataframe tbody tr th {\n",
       "        vertical-align: top;\n",
       "    }\n",
       "\n",
       "    .dataframe thead th {\n",
       "        text-align: right;\n",
       "    }\n",
       "</style>\n",
       "<table border=\"1\" class=\"dataframe\">\n",
       "  <thead>\n",
       "    <tr style=\"text-align: right;\">\n",
       "      <th></th>\n",
       "      <th>ID</th>\n",
       "    </tr>\n",
       "  </thead>\n",
       "  <tbody>\n",
       "    <tr>\n",
       "      <th>0</th>\n",
       "      <td>mp-1228140</td>\n",
       "    </tr>\n",
       "    <tr>\n",
       "      <th>1</th>\n",
       "      <td>mp-1344634</td>\n",
       "    </tr>\n",
       "    <tr>\n",
       "      <th>2</th>\n",
       "      <td>mp-686442</td>\n",
       "    </tr>\n",
       "    <tr>\n",
       "      <th>3</th>\n",
       "      <td>mp-1195162</td>\n",
       "    </tr>\n",
       "    <tr>\n",
       "      <th>4</th>\n",
       "      <td>mp-1022188</td>\n",
       "    </tr>\n",
       "    <tr>\n",
       "      <th>...</th>\n",
       "      <td>...</td>\n",
       "    </tr>\n",
       "    <tr>\n",
       "      <th>45281</th>\n",
       "      <td>mp-753206</td>\n",
       "    </tr>\n",
       "    <tr>\n",
       "      <th>45282</th>\n",
       "      <td>mp-772964</td>\n",
       "    </tr>\n",
       "    <tr>\n",
       "      <th>45283</th>\n",
       "      <td>mp-556905</td>\n",
       "    </tr>\n",
       "    <tr>\n",
       "      <th>45284</th>\n",
       "      <td>mp-2230185</td>\n",
       "    </tr>\n",
       "    <tr>\n",
       "      <th>45285</th>\n",
       "      <td>mp-19980</td>\n",
       "    </tr>\n",
       "  </tbody>\n",
       "</table>\n",
       "<p>45217 rows × 1 columns</p>\n",
       "</div>"
      ],
      "text/plain": [
       "               ID\n",
       "0      mp-1228140\n",
       "1      mp-1344634\n",
       "2       mp-686442\n",
       "3      mp-1195162\n",
       "4      mp-1022188\n",
       "...           ...\n",
       "45281   mp-753206\n",
       "45282   mp-772964\n",
       "45283   mp-556905\n",
       "45284  mp-2230185\n",
       "45285    mp-19980\n",
       "\n",
       "[45217 rows x 1 columns]"
      ]
     },
     "execution_count": 35,
     "metadata": {},
     "output_type": "execute_result"
    }
   ],
   "source": [
    "# Exclude rows in 'candidate_pre' that are present in 'positive_pre'\n",
    "# After this, I call this candidate.\n",
    "candidate = candidate_pre[~candidate_pre['ID'].isin(positive_pre['ID'])]\n",
    "candidate"
   ]
  },
  {
   "cell_type": "markdown",
   "id": "83608127-86d7-4217-9fae-efacd2f3bc5c",
   "metadata": {},
   "source": [
    "# 5. Randomly split positive_pre into positive and test_positive"
   ]
  },
  {
   "cell_type": "code",
   "execution_count": 36,
   "id": "a880a70b-5967-405b-a651-9b3d087cda20",
   "metadata": {
    "execution": {
     "iopub.execute_input": "2024-06-25T03:03:19.859760Z",
     "iopub.status.busy": "2024-06-25T03:03:19.859760Z",
     "iopub.status.idle": "2024-06-25T03:03:19.864271Z",
     "shell.execute_reply": "2024-06-25T03:03:19.864271Z",
     "shell.execute_reply.started": "2024-06-25T03:03:19.859760Z"
    }
   },
   "outputs": [],
   "source": [
    "import pandas as pd\n",
    "\n",
    "# Specify the number of rows for test_positive\n",
    "num_rows_test_positive = 14  \n",
    "\n",
    "# Step 1: Randomly shuffle the DataFrame\n",
    "positive_pre_shuffled = positive_pre.sample(frac=1, random_state=666).reset_index(drop=True)\n",
    "\n",
    "# Step 2: Split the DataFrame into two parts\n",
    "test_positive = positive_pre_shuffled.iloc[:num_rows_test_positive] # First DataFrame with the specified number of rows  \n",
    "positive = positive_pre_shuffled.iloc[num_rows_test_positive:]  # Second DataFrame with the remaining rows"
   ]
  },
  {
   "cell_type": "code",
   "execution_count": 37,
   "id": "2ad7397d-c022-4e3a-aec6-25f06b0de9c6",
   "metadata": {
    "execution": {
     "iopub.execute_input": "2024-06-25T03:03:21.704120Z",
     "iopub.status.busy": "2024-06-25T03:03:21.704120Z",
     "iopub.status.idle": "2024-06-25T03:03:21.711823Z",
     "shell.execute_reply": "2024-06-25T03:03:21.711823Z",
     "shell.execute_reply.started": "2024-06-25T03:03:21.704120Z"
    }
   },
   "outputs": [
    {
     "data": {
      "text/html": [
       "<div>\n",
       "<style scoped>\n",
       "    .dataframe tbody tr th:only-of-type {\n",
       "        vertical-align: middle;\n",
       "    }\n",
       "\n",
       "    .dataframe tbody tr th {\n",
       "        vertical-align: top;\n",
       "    }\n",
       "\n",
       "    .dataframe thead th {\n",
       "        text-align: right;\n",
       "    }\n",
       "</style>\n",
       "<table border=\"1\" class=\"dataframe\">\n",
       "  <thead>\n",
       "    <tr style=\"text-align: right;\">\n",
       "      <th></th>\n",
       "      <th>ID</th>\n",
       "    </tr>\n",
       "  </thead>\n",
       "  <tbody>\n",
       "    <tr>\n",
       "      <th>14</th>\n",
       "      <td>mp-4340</td>\n",
       "    </tr>\n",
       "    <tr>\n",
       "      <th>15</th>\n",
       "      <td>mp-1080749</td>\n",
       "    </tr>\n",
       "    <tr>\n",
       "      <th>16</th>\n",
       "      <td>mp-569858</td>\n",
       "    </tr>\n",
       "    <tr>\n",
       "      <th>17</th>\n",
       "      <td>mp-19399</td>\n",
       "    </tr>\n",
       "    <tr>\n",
       "      <th>18</th>\n",
       "      <td>mp-3579</td>\n",
       "    </tr>\n",
       "    <tr>\n",
       "      <th>...</th>\n",
       "      <td>...</td>\n",
       "    </tr>\n",
       "    <tr>\n",
       "      <th>99</th>\n",
       "      <td>mp-22417</td>\n",
       "    </tr>\n",
       "    <tr>\n",
       "      <th>100</th>\n",
       "      <td>mp-31513</td>\n",
       "    </tr>\n",
       "    <tr>\n",
       "      <th>101</th>\n",
       "      <td>mp-2719</td>\n",
       "    </tr>\n",
       "    <tr>\n",
       "      <th>102</th>\n",
       "      <td>mp-1018800</td>\n",
       "    </tr>\n",
       "    <tr>\n",
       "      <th>103</th>\n",
       "      <td>mp-36447</td>\n",
       "    </tr>\n",
       "  </tbody>\n",
       "</table>\n",
       "<p>90 rows × 1 columns</p>\n",
       "</div>"
      ],
      "text/plain": [
       "             ID\n",
       "14      mp-4340\n",
       "15   mp-1080749\n",
       "16    mp-569858\n",
       "17     mp-19399\n",
       "18      mp-3579\n",
       "..          ...\n",
       "99     mp-22417\n",
       "100    mp-31513\n",
       "101     mp-2719\n",
       "102  mp-1018800\n",
       "103    mp-36447\n",
       "\n",
       "[90 rows x 1 columns]"
      ]
     },
     "execution_count": 37,
     "metadata": {},
     "output_type": "execute_result"
    }
   ],
   "source": [
    "positive"
   ]
  },
  {
   "cell_type": "code",
   "execution_count": 38,
   "id": "3ad5a66b-4ebd-4dc6-b82e-ca4f8ebcc250",
   "metadata": {
    "execution": {
     "iopub.execute_input": "2024-06-25T03:03:22.326180Z",
     "iopub.status.busy": "2024-06-25T03:03:22.326180Z",
     "iopub.status.idle": "2024-06-25T03:03:22.333090Z",
     "shell.execute_reply": "2024-06-25T03:03:22.333090Z",
     "shell.execute_reply.started": "2024-06-25T03:03:22.326180Z"
    }
   },
   "outputs": [
    {
     "data": {
      "text/html": [
       "<div>\n",
       "<style scoped>\n",
       "    .dataframe tbody tr th:only-of-type {\n",
       "        vertical-align: middle;\n",
       "    }\n",
       "\n",
       "    .dataframe tbody tr th {\n",
       "        vertical-align: top;\n",
       "    }\n",
       "\n",
       "    .dataframe thead th {\n",
       "        text-align: right;\n",
       "    }\n",
       "</style>\n",
       "<table border=\"1\" class=\"dataframe\">\n",
       "  <thead>\n",
       "    <tr style=\"text-align: right;\">\n",
       "      <th></th>\n",
       "      <th>ID</th>\n",
       "    </tr>\n",
       "  </thead>\n",
       "  <tbody>\n",
       "    <tr>\n",
       "      <th>0</th>\n",
       "      <td>mp-567240</td>\n",
       "    </tr>\n",
       "    <tr>\n",
       "      <th>1</th>\n",
       "      <td>mp-20128</td>\n",
       "    </tr>\n",
       "    <tr>\n",
       "      <th>2</th>\n",
       "      <td>mp-1106201</td>\n",
       "    </tr>\n",
       "    <tr>\n",
       "      <th>3</th>\n",
       "      <td>mp-30409</td>\n",
       "    </tr>\n",
       "    <tr>\n",
       "      <th>4</th>\n",
       "      <td>mp-21131</td>\n",
       "    </tr>\n",
       "    <tr>\n",
       "      <th>5</th>\n",
       "      <td>mp-19857</td>\n",
       "    </tr>\n",
       "    <tr>\n",
       "      <th>6</th>\n",
       "      <td>mp-8613</td>\n",
       "    </tr>\n",
       "    <tr>\n",
       "      <th>7</th>\n",
       "      <td>mp-29207</td>\n",
       "    </tr>\n",
       "    <tr>\n",
       "      <th>8</th>\n",
       "      <td>mp-746030</td>\n",
       "    </tr>\n",
       "    <tr>\n",
       "      <th>9</th>\n",
       "      <td>mp-28416</td>\n",
       "    </tr>\n",
       "    <tr>\n",
       "      <th>10</th>\n",
       "      <td>mp-5498</td>\n",
       "    </tr>\n",
       "    <tr>\n",
       "      <th>11</th>\n",
       "      <td>mp-22024</td>\n",
       "    </tr>\n",
       "    <tr>\n",
       "      <th>12</th>\n",
       "      <td>mp-2847</td>\n",
       "    </tr>\n",
       "    <tr>\n",
       "      <th>13</th>\n",
       "      <td>mp-21089</td>\n",
       "    </tr>\n",
       "  </tbody>\n",
       "</table>\n",
       "</div>"
      ],
      "text/plain": [
       "            ID\n",
       "0    mp-567240\n",
       "1     mp-20128\n",
       "2   mp-1106201\n",
       "3     mp-30409\n",
       "4     mp-21131\n",
       "5     mp-19857\n",
       "6      mp-8613\n",
       "7     mp-29207\n",
       "8    mp-746030\n",
       "9     mp-28416\n",
       "10     mp-5498\n",
       "11    mp-22024\n",
       "12     mp-2847\n",
       "13    mp-21089"
      ]
     },
     "execution_count": 38,
     "metadata": {},
     "output_type": "execute_result"
    }
   ],
   "source": [
    "test_positive"
   ]
  },
  {
   "cell_type": "markdown",
   "id": "4c2994b9-3858-4015-836c-b1740a4b10a4",
   "metadata": {},
   "source": [
    "#### Note: the randomness is happenning at positive_pre_shuffled. After this shuffle, you just choose the first 14 as test_positive, the remaining is positive."
   ]
  },
  {
   "cell_type": "markdown",
   "id": "e77518fe-17da-4a38-bde2-a6e0745bf8c0",
   "metadata": {},
   "source": [
    "# 6. Randomly split negative_pre_8excluded into negative and test_negative"
   ]
  },
  {
   "cell_type": "code",
   "execution_count": 39,
   "id": "4a048c5a-b360-4d8b-ab89-306be9196042",
   "metadata": {
    "execution": {
     "iopub.execute_input": "2024-06-25T03:03:27.957232Z",
     "iopub.status.busy": "2024-06-25T03:03:27.957232Z",
     "iopub.status.idle": "2024-06-25T03:03:27.964971Z",
     "shell.execute_reply": "2024-06-25T03:03:27.964971Z",
     "shell.execute_reply.started": "2024-06-25T03:03:27.957232Z"
    }
   },
   "outputs": [],
   "source": [
    "import pandas as pd\n",
    "\n",
    "# Specify the number of rows for test_negative\n",
    "num_rows_test_negative = 83  \n",
    "\n",
    "# Step 1: Randomly shuffle the DataFrame\n",
    "negative_pre_8excluded_shuffled = negative_pre_8excluded.sample(frac=1, random_state=666).reset_index(drop=True)\n",
    "\n",
    "# Step 2: Split the DataFrame into two parts\n",
    "test_negative = negative_pre_8excluded_shuffled.iloc[:num_rows_test_negative] # First DataFrame with the specified number of rows  \n",
    "negative = negative_pre_8excluded_shuffled.iloc[num_rows_test_negative:]  # Second DataFrame with the remaining rows"
   ]
  },
  {
   "cell_type": "code",
   "execution_count": 40,
   "id": "e10f03e0-4711-4e1c-a9cd-872316a3c513",
   "metadata": {
    "execution": {
     "iopub.execute_input": "2024-06-25T03:03:28.480173Z",
     "iopub.status.busy": "2024-06-25T03:03:28.480173Z",
     "iopub.status.idle": "2024-06-25T03:03:28.489120Z",
     "shell.execute_reply": "2024-06-25T03:03:28.489059Z",
     "shell.execute_reply.started": "2024-06-25T03:03:28.480173Z"
    }
   },
   "outputs": [
    {
     "data": {
      "text/html": [
       "<div>\n",
       "<style scoped>\n",
       "    .dataframe tbody tr th:only-of-type {\n",
       "        vertical-align: middle;\n",
       "    }\n",
       "\n",
       "    .dataframe tbody tr th {\n",
       "        vertical-align: top;\n",
       "    }\n",
       "\n",
       "    .dataframe thead th {\n",
       "        text-align: right;\n",
       "    }\n",
       "</style>\n",
       "<table border=\"1\" class=\"dataframe\">\n",
       "  <thead>\n",
       "    <tr style=\"text-align: right;\">\n",
       "      <th></th>\n",
       "      <th>ID</th>\n",
       "    </tr>\n",
       "  </thead>\n",
       "  <tbody>\n",
       "    <tr>\n",
       "      <th>83</th>\n",
       "      <td>mp-1183723</td>\n",
       "    </tr>\n",
       "    <tr>\n",
       "      <th>84</th>\n",
       "      <td>mp-1519221</td>\n",
       "    </tr>\n",
       "    <tr>\n",
       "      <th>85</th>\n",
       "      <td>mp-1184914</td>\n",
       "    </tr>\n",
       "    <tr>\n",
       "      <th>86</th>\n",
       "      <td>mp-2470</td>\n",
       "    </tr>\n",
       "    <tr>\n",
       "      <th>87</th>\n",
       "      <td>mp-2210754</td>\n",
       "    </tr>\n",
       "    <tr>\n",
       "      <th>...</th>\n",
       "      <td>...</td>\n",
       "    </tr>\n",
       "    <tr>\n",
       "      <th>21679</th>\n",
       "      <td>mp-1217954</td>\n",
       "    </tr>\n",
       "    <tr>\n",
       "      <th>21680</th>\n",
       "      <td>mp-1518903</td>\n",
       "    </tr>\n",
       "    <tr>\n",
       "      <th>21681</th>\n",
       "      <td>mp-10209</td>\n",
       "    </tr>\n",
       "    <tr>\n",
       "      <th>21682</th>\n",
       "      <td>mp-1223176</td>\n",
       "    </tr>\n",
       "    <tr>\n",
       "      <th>21683</th>\n",
       "      <td>mp-1201854</td>\n",
       "    </tr>\n",
       "  </tbody>\n",
       "</table>\n",
       "<p>21601 rows × 1 columns</p>\n",
       "</div>"
      ],
      "text/plain": [
       "               ID\n",
       "83     mp-1183723\n",
       "84     mp-1519221\n",
       "85     mp-1184914\n",
       "86        mp-2470\n",
       "87     mp-2210754\n",
       "...           ...\n",
       "21679  mp-1217954\n",
       "21680  mp-1518903\n",
       "21681    mp-10209\n",
       "21682  mp-1223176\n",
       "21683  mp-1201854\n",
       "\n",
       "[21601 rows x 1 columns]"
      ]
     },
     "execution_count": 40,
     "metadata": {},
     "output_type": "execute_result"
    }
   ],
   "source": [
    "negative"
   ]
  },
  {
   "cell_type": "code",
   "execution_count": 41,
   "id": "bc905545-c09a-4122-880f-e4f0646b8051",
   "metadata": {
    "execution": {
     "iopub.execute_input": "2024-06-25T03:03:29.304362Z",
     "iopub.status.busy": "2024-06-25T03:03:29.303397Z",
     "iopub.status.idle": "2024-06-25T03:03:29.312632Z",
     "shell.execute_reply": "2024-06-25T03:03:29.312632Z",
     "shell.execute_reply.started": "2024-06-25T03:03:29.304362Z"
    }
   },
   "outputs": [
    {
     "data": {
      "text/html": [
       "<div>\n",
       "<style scoped>\n",
       "    .dataframe tbody tr th:only-of-type {\n",
       "        vertical-align: middle;\n",
       "    }\n",
       "\n",
       "    .dataframe tbody tr th {\n",
       "        vertical-align: top;\n",
       "    }\n",
       "\n",
       "    .dataframe thead th {\n",
       "        text-align: right;\n",
       "    }\n",
       "</style>\n",
       "<table border=\"1\" class=\"dataframe\">\n",
       "  <thead>\n",
       "    <tr style=\"text-align: right;\">\n",
       "      <th></th>\n",
       "      <th>ID</th>\n",
       "    </tr>\n",
       "  </thead>\n",
       "  <tbody>\n",
       "    <tr>\n",
       "      <th>0</th>\n",
       "      <td>mp-1034697</td>\n",
       "    </tr>\n",
       "    <tr>\n",
       "      <th>1</th>\n",
       "      <td>mp-1028272</td>\n",
       "    </tr>\n",
       "    <tr>\n",
       "      <th>2</th>\n",
       "      <td>mp-689925</td>\n",
       "    </tr>\n",
       "    <tr>\n",
       "      <th>3</th>\n",
       "      <td>mp-1233009</td>\n",
       "    </tr>\n",
       "    <tr>\n",
       "      <th>4</th>\n",
       "      <td>mp-1018084</td>\n",
       "    </tr>\n",
       "    <tr>\n",
       "      <th>...</th>\n",
       "      <td>...</td>\n",
       "    </tr>\n",
       "    <tr>\n",
       "      <th>78</th>\n",
       "      <td>mp-2714651</td>\n",
       "    </tr>\n",
       "    <tr>\n",
       "      <th>79</th>\n",
       "      <td>mp-545756</td>\n",
       "    </tr>\n",
       "    <tr>\n",
       "      <th>80</th>\n",
       "      <td>mp-772554</td>\n",
       "    </tr>\n",
       "    <tr>\n",
       "      <th>81</th>\n",
       "      <td>mp-1520168</td>\n",
       "    </tr>\n",
       "    <tr>\n",
       "      <th>82</th>\n",
       "      <td>mp-2226807</td>\n",
       "    </tr>\n",
       "  </tbody>\n",
       "</table>\n",
       "<p>83 rows × 1 columns</p>\n",
       "</div>"
      ],
      "text/plain": [
       "            ID\n",
       "0   mp-1034697\n",
       "1   mp-1028272\n",
       "2    mp-689925\n",
       "3   mp-1233009\n",
       "4   mp-1018084\n",
       "..         ...\n",
       "78  mp-2714651\n",
       "79   mp-545756\n",
       "80   mp-772554\n",
       "81  mp-1520168\n",
       "82  mp-2226807\n",
       "\n",
       "[83 rows x 1 columns]"
      ]
     },
     "execution_count": 41,
     "metadata": {},
     "output_type": "execute_result"
    }
   ],
   "source": [
    "test_negative"
   ]
  },
  {
   "cell_type": "markdown",
   "id": "f45ec717-6172-4d27-ada1-d510c087a03c",
   "metadata": {},
   "source": [
    "# 7. Save DataFrames to csv files in save_files"
   ]
  },
  {
   "cell_type": "code",
   "execution_count": 42,
   "id": "0d525c76-6bb9-4af9-9d19-6a1df8c037f9",
   "metadata": {
    "execution": {
     "iopub.execute_input": "2024-06-25T03:03:35.075739Z",
     "iopub.status.busy": "2024-06-25T03:03:35.075739Z",
     "iopub.status.idle": "2024-06-25T03:03:35.125023Z",
     "shell.execute_reply": "2024-06-25T03:03:35.125023Z",
     "shell.execute_reply.started": "2024-06-25T03:03:35.075739Z"
    }
   },
   "outputs": [],
   "source": [
    "# Saving the DataFrame to a CSV file\n",
    "positive.to_csv('save_files/positive.csv', index=False)\n",
    "test_positive.to_csv('save_files/test_positive.csv', index=False)\n",
    "negative.to_csv('save_files/negative.csv', index=False)\n",
    "test_negative.to_csv('save_files/test_negative.csv', index=False)\n",
    "candidate.to_csv('save_files/candidate.csv', index=False)"
   ]
  },
  {
   "cell_type": "markdown",
   "id": "6acce2a4-8b41-4948-9db7-3c452004543f",
   "metadata": {},
   "source": [
    "# Appendix 1. Sample datasets"
   ]
  },
  {
   "cell_type": "code",
   "execution_count": 52,
   "id": "b1fdadd0-087b-41b0-a7dd-4ee78717f44a",
   "metadata": {
    "execution": {
     "iopub.execute_input": "2024-06-25T03:45:23.762997Z",
     "iopub.status.busy": "2024-06-25T03:45:23.762997Z",
     "iopub.status.idle": "2024-06-25T03:45:23.783754Z",
     "shell.execute_reply": "2024-06-25T03:45:23.783754Z",
     "shell.execute_reply.started": "2024-06-25T03:45:23.762997Z"
    }
   },
   "outputs": [],
   "source": [
    "sample_positive = positive['ID'].sample(n=10, random_state=666).reset_index(drop=True)\n",
    "sample_negative = negative['ID'].sample(n=30, random_state=666).reset_index(drop=True)\n",
    "sample_candidate = candidate['ID'].sample(n=44, random_state=666).reset_index(drop=True)\n",
    "\n",
    "sample_positive.to_csv('save_files_sample/sample_positive.csv', index=False)\n",
    "sample_negative.to_csv('save_files_sample/sample_negative.csv', index=False)\n",
    "sample_candidate.to_csv('save_files_sample/sample_candidate.csv', index=False)"
   ]
  },
  {
   "cell_type": "code",
   "execution_count": null,
   "id": "695f0ea4-426c-48a7-b6e1-00f1038c5040",
   "metadata": {},
   "outputs": [],
   "source": []
  }
 ],
 "metadata": {
  "kernelspec": {
   "display_name": "Python 3 (ipykernel)",
   "language": "python",
   "name": "python3"
  },
  "language_info": {
   "codemirror_mode": {
    "name": "ipython",
    "version": 3
   },
   "file_extension": ".py",
   "mimetype": "text/x-python",
   "name": "python",
   "nbconvert_exporter": "python",
   "pygments_lexer": "ipython3",
   "version": "3.11.6"
  }
 },
 "nbformat": 4,
 "nbformat_minor": 5
}
